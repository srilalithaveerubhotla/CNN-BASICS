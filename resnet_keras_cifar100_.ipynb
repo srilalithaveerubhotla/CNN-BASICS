{
  "nbformat": 4,
  "nbformat_minor": 0,
  "metadata": {
    "colab": {
      "name": "resnet keras cifar100 .ipynb",
      "provenance": [],
      "collapsed_sections": [],
      "toc_visible": true,
      "include_colab_link": true
    },
    "kernelspec": {
      "name": "python3",
      "display_name": "Python 3"
    },
    "accelerator": "GPU"
  },
  "cells": [
    {
      "cell_type": "markdown",
      "metadata": {
        "id": "view-in-github",
        "colab_type": "text"
      },
      "source": [
        "<a href=\"https://colab.research.google.com/github/srilalithaveerubhotla/CNN-BASICS/blob/master/resnet_keras_cifar100_.ipynb\" target=\"_parent\"><img src=\"https://colab.research.google.com/assets/colab-badge.svg\" alt=\"Open In Colab\"/></a>"
      ]
    },
    {
      "cell_type": "markdown",
      "metadata": {
        "id": "5mzv0vanUPzN",
        "colab_type": "text"
      },
      "source": [
        "CNN basics : RESNET from scratch in keras on cifar 100 ran on GPU with all statistics locked in the notebook\n",
        "\n",
        "Tensorboard: https://tensorboard.dev/experiment/7V5nvr7nQPG1LDs6DgG0gw/#scalars"
      ]
    },
    {
      "cell_type": "markdown",
      "metadata": {
        "id": "jgnZOCImhs_I",
        "colab_type": "text"
      },
      "source": [
        "## Importing Libraries"
      ]
    },
    {
      "cell_type": "code",
      "metadata": {
        "id": "Hsxqp9x7ULfK",
        "colab_type": "code",
        "colab": {
          "base_uri": "https://localhost:8080/",
          "height": 33
        },
        "outputId": "caeba008-8415-4b7d-e2d6-78ee799ccdca"
      },
      "source": [
        "# Libraries\n",
        "import matplotlib.pyplot as plt\n",
        "from matplotlib import pyplot\n",
        "import numpy as np\n",
        "\n",
        "from tensorflow.keras.datasets import mnist\n",
        "\n",
        "import keras\n",
        "from keras import models\n",
        "from keras.datasets import cifar100\n",
        "import keras.layers as layers\n",
        "from keras.layers import Dense, Conv2D, MaxPool2D , Flatten, BatchNormalization, Activation, AveragePooling2D\n",
        "from keras.models import Sequential\n",
        "from keras.utils import plot_model\n",
        "from keras.preprocessing import image\n",
        "from keras.initializers import Identity\n",
        "import tensorflow as tf\n",
        "import datetime\n",
        "from keras.optimizers import Adam\n",
        "from keras.callbacks import EarlyStopping, TensorBoard\n"
      ],
      "execution_count": 1,
      "outputs": [
        {
          "output_type": "stream",
          "text": [
            "Using TensorFlow backend.\n"
          ],
          "name": "stderr"
        }
      ]
    },
    {
      "cell_type": "code",
      "metadata": {
        "id": "L1cfqD3Ybe-K",
        "colab_type": "code",
        "outputId": "0197fa4b-c9eb-4f6a-a869-6cd15c4dfa46",
        "colab": {
          "base_uri": "https://localhost:8080/",
          "height": 50
        }
      },
      "source": [
        "# The data, split between train and test sets:\n",
        "(x_train, y_train), (x_test, y_test) = cifar100.load_data()\n"
      ],
      "execution_count": 2,
      "outputs": [
        {
          "output_type": "stream",
          "text": [
            "Downloading data from https://www.cs.toronto.edu/~kriz/cifar-100-python.tar.gz\n",
            "169009152/169001437 [==============================] - 11s 0us/step\n"
          ],
          "name": "stdout"
        }
      ]
    },
    {
      "cell_type": "code",
      "metadata": {
        "id": "Tc-f2Hjqbgnf",
        "colab_type": "code",
        "outputId": "b4ab720b-7988-428e-c2ff-78180f417cf8",
        "colab": {
          "base_uri": "https://localhost:8080/",
          "height": 298
        }
      },
      "source": [
        "print(y_train[500])\n",
        "pyplot.imshow(x_train[500])"
      ],
      "execution_count": 0,
      "outputs": [
        {
          "output_type": "stream",
          "text": [
            "[41]\n"
          ],
          "name": "stdout"
        },
        {
          "output_type": "execute_result",
          "data": {
            "text/plain": [
              "<matplotlib.image.AxesImage at 0x7fb8ba4cc4e0>"
            ]
          },
          "metadata": {
            "tags": []
          },
          "execution_count": 9
        },
        {
          "output_type": "display_data",
          "data": {
            "image/png": "[encoded data removed]",
            "text/plain": [
              "<Figure size 432x288 with 1 Axes>"
            ]
          },
          "metadata": {
            "tags": [],
            "needs_background": "light"
          }
        }
      ]
    },
    {
      "cell_type": "code",
      "metadata": {
        "id": "vwR9v3Pqb-MS",
        "colab_type": "code",
        "outputId": "09d3f1ca-254d-4dbd-9da0-4984eb87e87f",
        "colab": {
          "base_uri": "https://localhost:8080/",
          "height": 33
        }
      },
      "source": [
        "y_train.shape"
      ],
      "execution_count": 0,
      "outputs": [
        {
          "output_type": "execute_result",
          "data": {
            "text/plain": [
              "(50000, 1)"
            ]
          },
          "metadata": {
            "tags": []
          },
          "execution_count": 11
        }
      ]
    },
    {
      "cell_type": "code",
      "metadata": {
        "id": "m_8ynYLMblEY",
        "colab_type": "code",
        "colab": {}
      },
      "source": [
        "np.random.seed(1)\n",
        "\n",
        "img, labels = (x_train[0:1000].reshape(1000, 32, 32, 3), y_train[0:1000])\n",
        "\n",
        "\n",
        "\n",
        "# creating an array of zeros \n",
        "one_hot_labels = np.zeros((len(labels), 100))\n",
        "\n",
        "# assigning 1 to where the label would be for that particular array\n",
        "# for example, if the array \n",
        "for i,l in enumerate(labels):\n",
        "  one_hot_labels[i][l] = 1\n",
        "labels = one_hot_labels\n",
        "\n",
        "\n",
        "test_label = np.zeros((len(y_test), 100))\n",
        "for i,l in enumerate(y_test):\n",
        "    test_label[i][l] = 1\n",
        "\n"
      ],
      "execution_count": 0,
      "outputs": []
    },
    {
      "cell_type": "markdown",
      "metadata": {
        "id": "w7L-6jzHcNTU",
        "colab_type": "text"
      },
      "source": [
        "## Resnet Architecture"
      ]
    },
    {
      "cell_type": "code",
      "metadata": {
        "id": "oh-Zj4Q2byYf",
        "colab_type": "code",
        "colab": {}
      },
      "source": [
        "def create_model():\n",
        "\n",
        "  model = Sequential()\n",
        "  model.add(Conv2D(input_shape=(32,32,3),filters=64,kernel_size=(3,3),padding=\"same\"))\n",
        "  model.add(BatchNormalization())\n",
        "  model.add(Activation('relu'))\n",
        "\n",
        "\n",
        "\n",
        "  model.add(Conv2D(filters=64,kernel_size=(3,3),padding=\"same\", activation=\"relu\"))\n",
        "  model.add(MaxPool2D(pool_size=(2,2),strides=(2,2)))\n",
        "\n",
        "\n",
        "  model.add(Conv2D(filters=128, kernel_size=(3,3), padding=\"same\", activation=\"relu\"))\n",
        "\n",
        "  model.add(AveragePooling2D(pool_size=(2,2),strides=(2,2)))\n",
        "\n",
        "  model.add(Flatten())\n",
        "\n",
        "  model.add(Dense(units=100, activation=\"softmax\"))\n",
        "\n",
        "  return model"
      ],
      "execution_count": 0,
      "outputs": []
    },
    {
      "cell_type": "code",
      "metadata": {
        "id": "D1fzu6vAevZG",
        "colab_type": "code",
        "outputId": "98214758-a604-4838-bd21-c6760cb7d8a7",
        "colab": {
          "base_uri": "https://localhost:8080/",
          "height": 440
        }
      },
      "source": [
        "model = create_model()\n",
        "model.summary()"
      ],
      "execution_count": 5,
      "outputs": [
        {
          "output_type": "stream",
          "text": [
            "Model: \"sequential_1\"\n",
            "_________________________________________________________________\n",
            "Layer (type)                 Output Shape              Param #   \n",
            "=================================================================\n",
            "conv2d_1 (Conv2D)            (None, 32, 32, 64)        1792      \n",
            "_________________________________________________________________\n",
            "batch_normalization_1 (Batch (None, 32, 32, 64)        256       \n",
            "_________________________________________________________________\n",
            "activation_1 (Activation)    (None, 32, 32, 64)        0         \n",
            "_________________________________________________________________\n",
            "conv2d_2 (Conv2D)            (None, 32, 32, 64)        36928     \n",
            "_________________________________________________________________\n",
            "max_pooling2d_1 (MaxPooling2 (None, 16, 16, 64)        0         \n",
            "_________________________________________________________________\n",
            "conv2d_3 (Conv2D)            (None, 16, 16, 128)       73856     \n",
            "_________________________________________________________________\n",
            "average_pooling2d_1 (Average (None, 8, 8, 128)         0         \n",
            "_________________________________________________________________\n",
            "flatten_1 (Flatten)          (None, 8192)              0         \n",
            "_________________________________________________________________\n",
            "dense_1 (Dense)              (None, 100)               819300    \n",
            "=================================================================\n",
            "Total params: 932,132\n",
            "Trainable params: 932,004\n",
            "Non-trainable params: 128\n",
            "_________________________________________________________________\n"
          ],
          "name": "stdout"
        }
      ]
    },
    {
      "cell_type": "code",
      "metadata": {
        "id": "sn1ZAKZtipzM",
        "colab_type": "code",
        "colab": {}
      },
      "source": [
        "# creating an array of zeros \n",
        "one_hot_labels = np.zeros((len(y_train), 100))\n",
        "\n",
        "\n",
        "# assigning 1 to where the label would be for that particular array\n",
        "# for example, if the array \n",
        "\n",
        "for i,l in enumerate(y_train):\n",
        "  one_hot_labels[i][l] = 1\n",
        "labels = one_hot_labels"
      ],
      "execution_count": 0,
      "outputs": []
    },
    {
      "cell_type": "code",
      "metadata": {
        "id": "nDtY_llZexdN",
        "colab_type": "code",
        "outputId": "f2c39352-80d3-43bd-e8c7-d09991f50397",
        "colab": {
          "base_uri": "https://localhost:8080/",
          "height": 375
        }
      },
      "source": [
        "# create tensorboard\n",
        "opt = Adam(lr=0.001)\n",
        "model.compile(optimizer=opt, loss=keras.losses.binary_crossentropy, metrics=['accuracy'])\n",
        "              \n",
        "\n",
        "log_dir=\"logs/resnet-keras\" \n",
        "tensorboard_callback = TensorBoard(log_dir=log_dir, histogram_freq=1)\n",
        "\n",
        "# fitting model to 1000 samples from cifar100\n",
        "model.fit(x=x_train, \n",
        "          y=labels, \n",
        "          epochs=10, \n",
        "          validation_data=(x_test, test_label), \n",
        "          callbacks=[tensorboard_callback])\n",
        "\n"
      ],
      "execution_count": 7,
      "outputs": [
        {
          "output_type": "stream",
          "text": [
            "Train on 50000 samples, validate on 10000 samples\n",
            "Epoch 1/10\n",
            "50000/50000 [==============================] - 24s 486us/step - loss: 0.0419 - accuracy: 0.9904 - val_loss: 0.0372 - val_accuracy: 0.9907\n",
            "Epoch 2/10\n",
            "50000/50000 [==============================] - 17s 350us/step - loss: 0.0310 - accuracy: 0.9916 - val_loss: 0.0339 - val_accuracy: 0.9911\n",
            "Epoch 3/10\n",
            "50000/50000 [==============================] - 18s 350us/step - loss: 0.0238 - accuracy: 0.9930 - val_loss: 0.0339 - val_accuracy: 0.9913\n",
            "Epoch 4/10\n",
            "50000/50000 [==============================] - 17s 349us/step - loss: 0.0177 - accuracy: 0.9946 - val_loss: 0.0372 - val_accuracy: 0.9907\n",
            "Epoch 5/10\n",
            "50000/50000 [==============================] - 18s 353us/step - loss: 0.0126 - accuracy: 0.9960 - val_loss: 0.0414 - val_accuracy: 0.9902\n",
            "Epoch 6/10\n",
            "50000/50000 [==============================] - 18s 351us/step - loss: 0.0087 - accuracy: 0.9971 - val_loss: 0.0506 - val_accuracy: 0.9892\n",
            "Epoch 7/10\n",
            "50000/50000 [==============================] - 17s 347us/step - loss: 0.0061 - accuracy: 0.9979 - val_loss: 0.0582 - val_accuracy: 0.9888\n",
            "Epoch 8/10\n",
            "50000/50000 [==============================] - 18s 351us/step - loss: 0.0046 - accuracy: 0.9984 - val_loss: 0.0606 - val_accuracy: 0.9886\n",
            "Epoch 9/10\n",
            "50000/50000 [==============================] - 18s 353us/step - loss: 0.0039 - accuracy: 0.9987 - val_loss: 0.0648 - val_accuracy: 0.9884\n",
            "Epoch 10/10\n",
            "50000/50000 [==============================] - 18s 353us/step - loss: 0.0033 - accuracy: 0.9989 - val_loss: 0.0718 - val_accuracy: 0.9883\n"
          ],
          "name": "stdout"
        },
        {
          "output_type": "execute_result",
          "data": {
            "text/plain": [
              "<keras.callbacks.callbacks.History at 0x7fe3ba63d8d0>"
            ]
          },
          "metadata": {
            "tags": []
          },
          "execution_count": 7
        }
      ]
    },
    {
      "cell_type": "code",
      "metadata": {
        "id": "pbu6H0rchktD",
        "colab_type": "code",
        "outputId": "4eb41e37-d240-48bd-c466-322ae658beb6",
        "colab": {
          "base_uri": "https://localhost:8080/",
          "height": 167
        }
      },
      "source": [
        "!tensorboard dev upload --logdir logs/resnet-keras/ \\\n",
        "  --name \"SRILALITHA's CIFAR Classification using Resnet with Keras\""
      ],
      "execution_count": 9,
      "outputs": [
        {
          "output_type": "stream",
          "text": [
            "2020-05-20 02:44:23.868893: I tensorflow/stream_executor/platform/default/dso_loader.cc:44] Successfully opened dynamic library libcudart.so.10.1\n",
            "Data for the \"graphs\" plugin is now uploaded to TensorBoard.dev! Note that uploaded data is public. If you do not want to upload data for this plugin, use the \"--plugins\" command line argument.\n",
            "Upload started and will continue reading any new data as it's added\n",
            "to the logdir. To stop uploading, press Ctrl-C.\n",
            "View your TensorBoard live at: https://tensorboard.dev/experiment/8I4gAfYgRqew12aDbwli8Q/\n",
            "\n",
            "Upload stopped. View your TensorBoard at https://tensorboard.dev/experiment/8I4gAfYgRqew12aDbwli8Q/\n",
            "^C\n"
          ],
          "name": "stdout"
        }
      ]
    },
    {
      "cell_type": "markdown",
      "metadata": {
        "id": "kTUH-hWrkyW7",
        "colab_type": "text"
      },
      "source": [
        "## Visualization"
      ]
    },
    {
      "cell_type": "code",
      "metadata": {
        "id": "uZ3_uQh9h-r9",
        "colab_type": "code",
        "outputId": "7898baed-be27-4296-a4ab-0c51d5cb2597",
        "colab": {
          "base_uri": "https://localhost:8080/",
          "height": 33
        }
      },
      "source": [
        "from keras.preprocessing import image\n",
        "\n",
        "img_tensor = image.img_to_array(x_train[500])\n",
        "img_tensor = np.expand_dims(img_tensor, axis=0)\n",
        "\n",
        "# img = np.pad(img, ((0,0),(2,2),(2,2),(0,0)), 'constant')\n",
        "\n",
        "# Remember that the model was trained on inputs\n",
        "# that were preprocessed in the following way:\n",
        "img_tensor /= 255.\n",
        "\n",
        "print(img_tensor.shape)\n"
      ],
      "execution_count": 0,
      "outputs": [
        {
          "output_type": "stream",
          "text": [
            "(1, 32, 32, 3)\n"
          ],
          "name": "stdout"
        }
      ]
    },
    {
      "cell_type": "code",
      "metadata": {
        "id": "lguCkEHOk85W",
        "colab_type": "code",
        "colab": {}
      },
      "source": [
        "from keras import models\n",
        "\n",
        "# Extracts the outputs of the top 8 layers:\n",
        "layer_outputs = [layer.output for layer in model.layers[:8]]\n",
        "# Creates a model that will return these outputs, given the model input:\n",
        "activation_model = models.Model(inputs=model.input, outputs=layer_outputs)\n",
        "\n",
        "# This will return a list of 5 Numpy arrays:\n",
        "# one array per layer activation\n",
        "activations = activation_model.predict(img_tensor)"
      ],
      "execution_count": 0,
      "outputs": []
    },
    {
      "cell_type": "code",
      "metadata": {
        "id": "r4rt2ROolCMU",
        "colab_type": "code",
        "outputId": "60dfff4c-439b-471e-a6ea-6a04f62922da",
        "colab": {
          "base_uri": "https://localhost:8080/",
          "height": 33
        }
      },
      "source": [
        "first_layer_activation = activations[0]\n",
        "\n",
        "# printing the first layer of the mnist dataset\n",
        "# it's a 30x30 feature map with 6 channels\n",
        "print(first_layer_activation.shape)"
      ],
      "execution_count": 0,
      "outputs": [
        {
          "output_type": "stream",
          "text": [
            "(1, 32, 32, 64)\n"
          ],
          "name": "stdout"
        }
      ]
    },
    {
      "cell_type": "code",
      "metadata": {
        "id": "m9XF4mJflKkl",
        "colab_type": "code",
        "outputId": "a1de0af1-d6ae-4b91-9659-f81b9b6fe5f6",
        "colab": {
          "base_uri": "https://localhost:8080/",
          "height": 298
        }
      },
      "source": [
        "print(y_train[500])\n",
        "pyplot.imshow(x_train[500])"
      ],
      "execution_count": 0,
      "outputs": [
        {
          "output_type": "stream",
          "text": [
            "[41]\n"
          ],
          "name": "stdout"
        },
        {
          "output_type": "execute_result",
          "data": {
            "text/plain": [
              "<matplotlib.image.AxesImage at 0x7fb860f49b00>"
            ]
          },
          "metadata": {
            "tags": []
          },
          "execution_count": 46
        },
        {
          "output_type": "display_data",
          "data": {
            "image/png": "[encoded data removed]",
            "text/plain": [
              "<Figure size 432x288 with 1 Axes>"
            ]
          },
          "metadata": {
            "tags": [],
            "needs_background": "light"
          }
        }
      ]
    },
    {
      "cell_type": "code",
      "metadata": {
        "id": "0tFDDZGilEAV",
        "colab_type": "code",
        "outputId": "5e50f344-c3ce-4b25-ad83-2d9b56319a10",
        "colab": {
          "base_uri": "https://localhost:8080/",
          "height": 275
        }
      },
      "source": [
        "import matplotlib.pyplot as plt\n",
        "\n",
        "# viewing the 3rd channel \n",
        "plt.matshow(first_layer_activation[0, :, :, 3], cmap='viridis')\n",
        "plt.show()"
      ],
      "execution_count": 0,
      "outputs": [
        {
          "output_type": "display_data",
          "data": {
            "image/png": "[encoded data removed]",
            "text/plain": [
              "<Figure size 288x288 with 1 Axes>"
            ]
          },
          "metadata": {
            "tags": [],
            "needs_background": "light"
          }
        }
      ]
    },
    {
      "cell_type": "code",
      "metadata": {
        "id": "uxhT_jkclG8V",
        "colab_type": "code",
        "outputId": "79259a27-669a-4e93-a4c4-67b403403a0f",
        "colab": {
          "base_uri": "https://localhost:8080/",
          "height": 275
        }
      },
      "source": [
        "# viewing the 5th channel\n",
        "plt.matshow(first_layer_activation[0, :, :, 5], cmap='viridis')\n",
        "plt.show()"
      ],
      "execution_count": 0,
      "outputs": [
        {
          "output_type": "display_data",
          "data": {
            "image/png": "[encoded data removed]",
            "text/plain": [
              "<Figure size 288x288 with 1 Axes>"
            ]
          },
          "metadata": {
            "tags": [],
            "needs_background": "light"
          }
        }
      ]
    },
    {
      "cell_type": "code",
      "metadata": {
        "id": "7QY0q7UtlbY8",
        "colab_type": "code",
        "colab": {}
      },
      "source": [
        ""
      ],
      "execution_count": 0,
      "outputs": []
    }
  ]
}