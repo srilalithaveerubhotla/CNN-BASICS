{
  "nbformat": 4,
  "nbformat_minor": 0,
  "metadata": {
    "colab": {
      "name": "Dogs breed.ipynb",
      "provenance": [],
      "collapsed_sections": [],
      "toc_visible": true,
      "include_colab_link": true
    },
    "kernelspec": {
      "name": "python3",
      "display_name": "Python 3"
    },
    "accelerator": "GPU"
  },
  "cells": [
    {
      "cell_type": "markdown",
      "metadata": {
        "id": "view-in-github",
        "colab_type": "text"
      },
      "source": [
        "<a href=\"https://colab.research.google.com/github/srilalithaveerubhotla/CNN-BASICS/blob/master/Dogs_breed.ipynb\" target=\"_parent\"><img src=\"https://colab.research.google.com/assets/colab-badge.svg\" alt=\"Open In Colab\"/></a>"
      ]
    },
    {
      "cell_type": "code",
      "metadata": {
        "id": "5iaN88N5o0JP",
        "colab_type": "code",
        "colab": {}
      },
      "source": [
        "# importing data \n",
        "%matplotlib inline\n",
        "import matplotlib.pyplot as plt\n",
        "\n",
        "import tensorflow as tf\n",
        "import numpy as np\n",
        "import pandas as pd\n",
        "\n",
        "import time\n",
        "from datetime import timedelta\n",
        "\n",
        "import math\n",
        "import os\n",
        "\n",
        "import scipy.misc\n",
        "from scipy.stats import itemfreq\n",
        "from random import sample\n",
        "import pickle\n",
        "\n",
        "from sklearn.metrics import confusion_matrix\n",
        "from sklearn.model_selection import train_test_split\n",
        "\n",
        "# Image manipulation\n",
        "import PIL.Image\n",
        "from IPython.display import display\n",
        "\n",
        "# Open a Zip File\n",
        "from zipfile import ZipFile\n",
        "from io import BytesIO"
      ],
      "execution_count": 0,
      "outputs": []
    },
    {
      "cell_type": "code",
      "metadata": {
        "id": "z801ROotSZgi",
        "colab_type": "code",
        "outputId": "e1a3150a-a0b1-45a6-cf6d-aee87b480b7f",
        "colab": {
          "base_uri": "https://localhost:8080/",
          "height": 122
        }
      },
      "source": [
        "from google.colab import drive\n",
        "drive.mount('/content/drive')\n",
        "!unzip -uq '/content/drive/My Drive/CMPE 258 - Deep Learning/Assignments/Assignment 4/dog-breed-id/train.zip'\n",
        "!unzip -uq '/content/drive/My Drive/CMPE 258 - Deep Learning/Assignments/Assignment 4/dog-breed-id/test.zip'\n",
        "\n"
      ],
      "execution_count": 0,
      "outputs": [
        {
          "output_type": "stream",
          "text": [
            "Go to this URL in a browser: https://accounts.google.com/o/oauth2/auth?client_id=947318989803-6bn6qk8qdgf4n4g3pfee6491hc0brc4i.apps.googleusercontent.com&redirect_uri=urn%3aietf%3awg%3aoauth%3a2.0%3aoob&response_type=code&scope=email%20https%3a%2f%2fwww.googleapis.com%2fauth%2fdocs.test%20https%3a%2f%2fwww.googleapis.com%2fauth%2fdrive%20https%3a%2f%2fwww.googleapis.com%2fauth%2fdrive.photos.readonly%20https%3a%2f%2fwww.googleapis.com%2fauth%2fpeopleapi.readonly\n",
            "\n",
            "Enter your authorization code:\n",
            "··········\n",
            "Mounted at /content/drive\n"
          ],
          "name": "stdout"
        }
      ]
    },
    {
      "cell_type": "code",
      "metadata": {
        "id": "vVFhqSNzRJci",
        "colab_type": "code",
        "outputId": "19e8d1f9-c3b0-4449-926e-c564a74519a8",
        "colab": {
          "base_uri": "https://localhost:8080/",
          "height": 34
        }
      },
      "source": [
        "# We unzip the train and test zip file\n",
        "train = ZipFile(\"/content/drive/My Drive/CMPE 258 - Deep Learning/Assignments/Assignment 4/dog-breed-id/train.zip\", 'r')\n",
        "test = ZipFile(\"/content/drive/My Drive/CMPE 258 - Deep Learning/Assignments/Assignment 4/dog-breed-id/test.zip\", 'r')\n",
        "# This line shows the 5 first image name of the train database\n",
        "train.namelist()[0:5]\n",
        "# This line shows the number of images in the train database, noted that we must remove the 1st value (column header)\n",
        "len(train.namelist()[:]) - 1"
      ],
      "execution_count": 0,
      "outputs": [
        {
          "output_type": "execute_result",
          "data": {
            "text/plain": [
              "10222"
            ]
          },
          "metadata": {
            "tags": []
          },
          "execution_count": 4
        }
      ]
    },
    {
      "cell_type": "code",
      "metadata": {
        "id": "bunuBLwDTxpd",
        "colab_type": "code",
        "colab": {}
      },
      "source": [
        "# This function help to create a pickle file gathering all the image from a zip folder\n",
        "def db_creator(archivezip, nwidth, nheight, save_name):\n",
        "    # We choose the archive (zip file) + the new width and height for all the image which will be reshaped\n",
        "    \n",
        "    # Start-time used for printing time-usage below.\n",
        "    start = time.time()\n",
        "    \n",
        "    # nwidth x nheight = number of features because images have nwidth x nheight pixels\n",
        "    s = (len(archivezip.namelist()[:])-1, nwidth, nheight,3)\n",
        "    allImg = np.zeros(s)\n",
        "    for i in range(1,len(archivezip.namelist()[:])):\n",
        "        fname = BytesIO(archivezip.read(archivezip.namelist()[i]))\n",
        "        image = PIL.Image.open(fname) # open colour image\n",
        "        image = image.resize((nwidth, nheight))\n",
        "        image = np.array(image)\n",
        "        image = np.clip(image/255.0, 0.0, 1.0) # 255 = max of the value of a pixel\n",
        "        allImg[i-1]=image\n",
        "    \n",
        "    # we save the newly created data base\n",
        "    pickle.dump(allImg, open( save_name + '.p', \"wb\" ) )\n",
        "    \n",
        "    # Ending time.\n",
        "    end = time.time()\n",
        "    # Difference between start and end-times.\n",
        "    time_dif = end - start\n",
        "    # Print the time-usage.\n",
        "    print(\"Time usage: \" + str(timedelta(seconds=int(round(time_dif)))))"
      ],
      "execution_count": 0,
      "outputs": []
    },
    {
      "cell_type": "code",
      "metadata": {
        "id": "sDVYDJNGUkO8",
        "colab_type": "code",
        "outputId": "9062b02d-cedc-4afc-aea3-8f94734304e1",
        "colab": {
          "base_uri": "https://localhost:8080/",
          "height": 51
        }
      },
      "source": [
        "# Define the new image size applied for all images\n",
        "# Create a pickle file for both the training and desting dataset\n",
        "image_resize = 60\n",
        "db_creator(archivezip = train, nwidth = image_resize, \n",
        "                 nheight = image_resize , save_name = \"/content/drive/My Drive/CMPE 258 - Deep Learning/Assignments/Assignment 4/pickle/train\")\n",
        "db_creator(archivezip = test, nwidth = image_resize, \n",
        "                 nheight = image_resize , save_name = \"/content/drive/My Drive/CMPE 258 - Deep Learning/Assignments/Assignment 4/pickle/test\")"
      ],
      "execution_count": 0,
      "outputs": [
        {
          "output_type": "stream",
          "text": [
            "Time usage: 0:01:01\n",
            "Time usage: 0:01:34\n"
          ],
          "name": "stdout"
        }
      ]
    },
    {
      "cell_type": "code",
      "metadata": {
        "id": "A_C73GxMU3GB",
        "colab_type": "code",
        "outputId": "a619977e-94fc-418c-a727-504ee2647ba7",
        "colab": {
          "base_uri": "https://localhost:8080/",
          "height": 34
        }
      },
      "source": [
        "# load train pickle file\n",
        "train = pickle.load( open( \"/content/drive/My Drive/CMPE 258 - Deep Learning/Assignments/Assignment 4/pickle/train.p\", \"rb\" ) )\n",
        "train.shape # checking the shape of the train dataset"
      ],
      "execution_count": 0,
      "outputs": [
        {
          "output_type": "execute_result",
          "data": {
            "text/plain": [
              "(10222, 60, 60, 3)"
            ]
          },
          "metadata": {
            "tags": []
          },
          "execution_count": 7
        }
      ]
    },
    {
      "cell_type": "code",
      "metadata": {
        "id": "AtaLuj-QZMfW",
        "colab_type": "code",
        "outputId": "7e9d9160-adac-4af1-9b60-e3754d49b400",
        "colab": {
          "base_uri": "https://localhost:8080/",
          "height": 34
        }
      },
      "source": [
        "# load test pickle file\n",
        "test = pickle.load( open( \"/content/drive/My Drive/CMPE 258 - Deep Learning/Assignments/Assignment 4/pickle/test.p\", \"rb\" ) )\n",
        "test.shape"
      ],
      "execution_count": 0,
      "outputs": [
        {
          "output_type": "execute_result",
          "data": {
            "text/plain": [
              "(10357, 60, 60, 3)"
            ]
          },
          "metadata": {
            "tags": []
          },
          "execution_count": 8
        }
      ]
    },
    {
      "cell_type": "code",
      "metadata": {
        "id": "CVcKcJUzbsYn",
        "colab_type": "code",
        "outputId": "c21bb77d-8c3b-4e64-ea86-803f8939a267",
        "colab": {
          "base_uri": "https://localhost:8080/",
          "height": 285
        }
      },
      "source": [
        "plt.imshow(test[500,:,:,:])"
      ],
      "execution_count": 0,
      "outputs": [
        {
          "output_type": "execute_result",
          "data": {
            "text/plain": [
              "<matplotlib.image.AxesImage at 0x7ff480e2d898>"
            ]
          },
          "metadata": {
            "tags": []
          },
          "execution_count": 9
        },
        {
          "output_type": "display_data",
          "data": {
            "image/png": "[encoded data removed]",
            "text/plain": [
              "<Figure size 432x288 with 1 Axes>"
            ]
          },
          "metadata": {
            "tags": [],
            "needs_background": "light"
          }
        }
      ]
    },
    {
      "cell_type": "code",
      "metadata": {
        "id": "dOY7xwSVdQ-T",
        "colab_type": "code",
        "colab": {}
      },
      "source": [
        "# reading in labels\n",
        "path = \"/content/drive/My Drive/CMPE 258 - Deep Learning/Assignments/Assignment 4/dog-breed-id/labels.csv\"\n",
        "labels = pd.read_csv(path)"
      ],
      "execution_count": 0,
      "outputs": []
    },
    {
      "cell_type": "code",
      "metadata": {
        "id": "nOud455KZUf9",
        "colab_type": "code",
        "colab": {}
      },
      "source": [
        "# normalizing the images\n",
        "image_resize = 60\n",
        "nwidth = image_resize\n",
        "nheight = image_resize\n",
        "\n",
        "# nwidth x nheight = number of features because images are nwidth x nheight pixels\n",
        "s = (len(labels['breed']), nwidth, nheight,3) \n",
        "allImage = np.zeros(s)\n",
        "\n",
        "i = 0\n",
        "for f, breed in labels.values:\n",
        "    image = PIL.Image.open('../content/train/{}.jpg'.format(f))\n",
        "    image = image.resize((nwidth, nheight))\n",
        "    image = np.array(image)\n",
        "    image = np.clip(image/255.0, 0.0, 1.0) # 255 = max of the value of a pixel\n",
        "    i += 1\n",
        "    allImage[i-1]=image\n",
        "\n",
        "    train = allImage"
      ],
      "execution_count": 0,
      "outputs": []
    },
    {
      "cell_type": "code",
      "metadata": {
        "id": "GIL_qQyNbzyy",
        "colab_type": "code",
        "outputId": "1e920604-ebe6-4489-a593-6a7d06ea5e33",
        "colab": {
          "base_uri": "https://localhost:8080/",
          "height": 268
        }
      },
      "source": [
        "plt.imshow(train[200,:,:,:])\n",
        "plt.show()"
      ],
      "execution_count": 0,
      "outputs": [
        {
          "output_type": "display_data",
          "data": {
            "image/png": "[encoded data removed]",
            "text/plain": [
              "<Figure size 432x288 with 1 Axes>"
            ]
          },
          "metadata": {
            "tags": [],
            "needs_background": "light"
          }
        }
      ]
    },
    {
      "cell_type": "code",
      "metadata": {
        "id": "OSw5xRO9oUXH",
        "colab_type": "code",
        "outputId": "ec39ddc3-a895-405d-fb7e-0cc53d912493",
        "colab": {
          "base_uri": "https://localhost:8080/",
          "height": 204
        }
      },
      "source": [
        "labels.sample(5)"
      ],
      "execution_count": 0,
      "outputs": [
        {
          "output_type": "execute_result",
          "data": {
            "text/html": [
              "<div>\n",
              "<style scoped>\n",
              "    .dataframe tbody tr th:only-of-type {\n",
              "        vertical-align: middle;\n",
              "    }\n",
              "\n",
              "    .dataframe tbody tr th {\n",
              "        vertical-align: top;\n",
              "    }\n",
              "\n",
              "    .dataframe thead th {\n",
              "        text-align: right;\n",
              "    }\n",
              "</style>\n",
              "<table border=\"1\" class=\"dataframe\">\n",
              "  <thead>\n",
              "    <tr style=\"text-align: right;\">\n",
              "      <th></th>\n",
              "      <th>id</th>\n",
              "      <th>breed</th>\n",
              "    </tr>\n",
              "  </thead>\n",
              "  <tbody>\n",
              "    <tr>\n",
              "      <th>9611</th>\n",
              "      <td>f1a18e29959bc5af735ebb5045f91b25</td>\n",
              "      <td>dhole</td>\n",
              "    </tr>\n",
              "    <tr>\n",
              "      <th>2238</th>\n",
              "      <td>37f1a6d8a5a2e3929afa8bdfc47aea2c</td>\n",
              "      <td>rhodesian_ridgeback</td>\n",
              "    </tr>\n",
              "    <tr>\n",
              "      <th>2392</th>\n",
              "      <td>3b8e713bd77cac3c4c0bfa228d784266</td>\n",
              "      <td>kelpie</td>\n",
              "    </tr>\n",
              "    <tr>\n",
              "      <th>3345</th>\n",
              "      <td>53114939929c74ccb6c64c373ed7bedb</td>\n",
              "      <td>gordon_setter</td>\n",
              "    </tr>\n",
              "    <tr>\n",
              "      <th>3773</th>\n",
              "      <td>5db15139f4f82e42088eef5678f0ab86</td>\n",
              "      <td>malinois</td>\n",
              "    </tr>\n",
              "  </tbody>\n",
              "</table>\n",
              "</div>"
            ],
            "text/plain": [
              "                                    id                breed\n",
              "9611  f1a18e29959bc5af735ebb5045f91b25                dhole\n",
              "2238  37f1a6d8a5a2e3929afa8bdfc47aea2c  rhodesian_ridgeback\n",
              "2392  3b8e713bd77cac3c4c0bfa228d784266               kelpie\n",
              "3345  53114939929c74ccb6c64c373ed7bedb        gordon_setter\n",
              "3773  5db15139f4f82e42088eef5678f0ab86             malinois"
            ]
          },
          "metadata": {
            "tags": []
          },
          "execution_count": 13
        }
      ]
    },
    {
      "cell_type": "code",
      "metadata": {
        "id": "TwxPqpBzDJzF",
        "colab_type": "code",
        "outputId": "a2c41e64-843c-415b-c302-2d300847fd35",
        "colab": {
          "base_uri": "https://localhost:8080/",
          "height": 221
        }
      },
      "source": [
        "labels[\"breed\"]"
      ],
      "execution_count": 0,
      "outputs": [
        {
          "output_type": "execute_result",
          "data": {
            "text/plain": [
              "0                     boston_bull\n",
              "1                           dingo\n",
              "2                        pekinese\n",
              "3                        bluetick\n",
              "4                golden_retriever\n",
              "                   ...           \n",
              "10217                      borzoi\n",
              "10218              dandie_dinmont\n",
              "10219                    airedale\n",
              "10220          miniature_pinscher\n",
              "10221    chesapeake_bay_retriever\n",
              "Name: breed, Length: 10222, dtype: object"
            ]
          },
          "metadata": {
            "tags": []
          },
          "execution_count": 14
        }
      ]
    },
    {
      "cell_type": "markdown",
      "metadata": {
        "id": "GJSBPpFxGF4S",
        "colab_type": "text"
      },
      "source": [
        "### Transfer Learning for VGG16\n",
        "\n"
      ]
    },
    {
      "cell_type": "markdown",
      "metadata": {
        "id": "pYJ-r-OVbCAG",
        "colab_type": "text"
      },
      "source": [
        "Using VGG16 model's convolutional base to extract features from the dog images to run through the classifier"
      ]
    },
    {
      "cell_type": "code",
      "metadata": {
        "id": "l0idS9Ttp353",
        "colab_type": "code",
        "outputId": "2e53e1a0-3a86-46a6-90e2-2de0cf20afb6",
        "colab": {
          "base_uri": "https://localhost:8080/",
          "height": 34
        }
      },
      "source": [
        "%matplotlib inline\n",
        "import numpy as np\n",
        "import pandas as pd\n",
        "import datetime as dt\n",
        "import matplotlib.pyplot as plt\n",
        "from mpl_toolkits.axes_grid1 import ImageGrid\n",
        "from os import listdir, makedirs\n",
        "from os.path import join, exists, expanduser\n",
        "from tqdm import tqdm\n",
        "from sklearn.metrics import log_loss, accuracy_score\n",
        "from keras.preprocessing import image\n",
        "from keras.applications.vgg16 import VGG16\n",
        "from keras.applications.resnet50 import ResNet50\n",
        "from keras.applications import xception\n",
        "from keras.applications import inception_v3\n",
        "from keras.applications.vgg16 import preprocess_input, decode_predictions\n",
        "from sklearn.linear_model import LogisticRegression"
      ],
      "execution_count": 0,
      "outputs": [
        {
          "output_type": "stream",
          "text": [
            "Using TensorFlow backend.\n"
          ],
          "name": "stderr"
        }
      ]
    },
    {
      "cell_type": "code",
      "metadata": {
        "id": "quzKKGmzbSIQ",
        "colab_type": "code",
        "colab": {}
      },
      "source": [
        "train_dir = '/content/train/'\n",
        "test_dir = '/content/test/'"
      ],
      "execution_count": 0,
      "outputs": []
    },
    {
      "cell_type": "code",
      "metadata": {
        "id": "d5uOqylwlsq1",
        "colab_type": "code",
        "outputId": "a117ca85-461c-4211-ff8a-91c0cdbb04c4",
        "colab": {
          "base_uri": "https://localhost:8080/",
          "height": 204
        }
      },
      "source": [
        "# reading in labels\n",
        "path = \"/content/drive/My Drive/CMPE 258 - Deep Learning/Assignments/Assignment 4/dog-breed-id/labels.csv\"\n",
        "labels = pd.read_csv(path)\n",
        "\n",
        "# selecting only the top 10 classes of breeds\n",
        "breeds = list(labels.groupby('breed').count().sort_values(by='id', ascending=False).head(10).index)\n",
        "labels = labels[labels['breed'].isin(breeds)]\n",
        "\n",
        "labels['id'] = labels['id'] + '.jpg'\n",
        "labels.head()"
      ],
      "execution_count": 0,
      "outputs": [
        {
          "output_type": "execute_result",
          "data": {
            "text/html": [
              "<div>\n",
              "<style scoped>\n",
              "    .dataframe tbody tr th:only-of-type {\n",
              "        vertical-align: middle;\n",
              "    }\n",
              "\n",
              "    .dataframe tbody tr th {\n",
              "        vertical-align: top;\n",
              "    }\n",
              "\n",
              "    .dataframe thead th {\n",
              "        text-align: right;\n",
              "    }\n",
              "</style>\n",
              "<table border=\"1\" class=\"dataframe\">\n",
              "  <thead>\n",
              "    <tr style=\"text-align: right;\">\n",
              "      <th></th>\n",
              "      <th>id</th>\n",
              "      <th>breed</th>\n",
              "    </tr>\n",
              "  </thead>\n",
              "  <tbody>\n",
              "    <tr>\n",
              "      <th>8</th>\n",
              "      <td>003df8b8a8b05244b1d920bb6cf451f9.jpg</td>\n",
              "      <td>basenji</td>\n",
              "    </tr>\n",
              "    <tr>\n",
              "      <th>9</th>\n",
              "      <td>0042188c895a2f14ef64a918ed9c7b64.jpg</td>\n",
              "      <td>scottish_deerhound</td>\n",
              "    </tr>\n",
              "    <tr>\n",
              "      <th>12</th>\n",
              "      <td>00693b8bc2470375cc744a6391d397ec.jpg</td>\n",
              "      <td>maltese_dog</td>\n",
              "    </tr>\n",
              "    <tr>\n",
              "      <th>57</th>\n",
              "      <td>0162b3e0144fb1d1ab82fbff3ace9938.jpg</td>\n",
              "      <td>shih-tzu</td>\n",
              "    </tr>\n",
              "    <tr>\n",
              "      <th>70</th>\n",
              "      <td>01b36cb1b80ab8c3a7d2b7128ad21bdc.jpg</td>\n",
              "      <td>samoyed</td>\n",
              "    </tr>\n",
              "  </tbody>\n",
              "</table>\n",
              "</div>"
            ],
            "text/plain": [
              "                                      id               breed\n",
              "8   003df8b8a8b05244b1d920bb6cf451f9.jpg             basenji\n",
              "9   0042188c895a2f14ef64a918ed9c7b64.jpg  scottish_deerhound\n",
              "12  00693b8bc2470375cc744a6391d397ec.jpg         maltese_dog\n",
              "57  0162b3e0144fb1d1ab82fbff3ace9938.jpg            shih-tzu\n",
              "70  01b36cb1b80ab8c3a7d2b7128ad21bdc.jpg             samoyed"
            ]
          },
          "metadata": {
            "tags": []
          },
          "execution_count": 20
        }
      ]
    },
    {
      "cell_type": "code",
      "metadata": {
        "id": "lGbfFP3Njk1g",
        "colab_type": "code",
        "outputId": "7d7e482a-8d96-4593-e17c-858532c96580",
        "colab": {
          "base_uri": "https://localhost:8080/",
          "height": 51
        }
      },
      "source": [
        "from tensorflow.keras.preprocessing.image import ImageDataGenerator\n",
        "BATCH = 32\n",
        "imagegen = ImageDataGenerator(\n",
        "    rescale=1./255,\n",
        "    zoom_range=.1,\n",
        "    width_shift_range=.1,\n",
        "    height_shift_range=.1,\n",
        "    rotation_range=30,\n",
        "    horizontal_flip=True,\n",
        "    validation_split=.2\n",
        "    )\n",
        "train_generator = imagegen.flow_from_dataframe(\n",
        "    dataframe=labels,\n",
        "    directory='/content/train',\n",
        "    x_col='id',\n",
        "    y_col='breed',\n",
        "    class_mode='categorical',\n",
        "    target_size=(224,224),\n",
        "    subset='training',\n",
        "    batch_size=BATCH)\n",
        "val_generator = imagegen.flow_from_dataframe(\n",
        "    dataframe=labels,\n",
        "    directory='/content/train',\n",
        "    x_col='id',\n",
        "    y_col='breed',\n",
        "    class_mode='categorical',\n",
        "    target_size=(224,224),\n",
        "    subset='validation',\n",
        "    batch_size=BATCH)"
      ],
      "execution_count": 0,
      "outputs": [
        {
          "output_type": "stream",
          "text": [
            "Found 913 validated image filenames belonging to 10 classes.\n",
            "Found 228 validated image filenames belonging to 10 classes.\n"
          ],
          "name": "stdout"
        }
      ]
    },
    {
      "cell_type": "code",
      "metadata": {
        "id": "R8Jn3yj-IDSr",
        "colab_type": "code",
        "outputId": "6bab9541-f70c-48eb-9ab3-476aa046b3ad",
        "colab": {
          "base_uri": "https://localhost:8080/",
          "height": 34
        }
      },
      "source": [
        "train_generator"
      ],
      "execution_count": 0,
      "outputs": [
        {
          "output_type": "execute_result",
          "data": {
            "text/plain": [
              "<keras_preprocessing.image.dataframe_iterator.DataFrameIterator at 0x7ff47f839940>"
            ]
          },
          "metadata": {
            "tags": []
          },
          "execution_count": 22
        }
      ]
    },
    {
      "cell_type": "code",
      "metadata": {
        "id": "fs4z_HV-Hqo2",
        "colab_type": "code",
        "outputId": "41b45fe4-4359-4bcf-e5e4-7eae0a3474d1",
        "colab": {
          "base_uri": "https://localhost:8080/",
          "height": 34
        }
      },
      "source": [
        "train = train_generator.image_data_generator\n",
        "train\n",
        "val = val_generator.image_data_generator\n",
        "val"
      ],
      "execution_count": 0,
      "outputs": [
        {
          "output_type": "execute_result",
          "data": {
            "text/plain": [
              "<tensorflow.python.keras.preprocessing.image.ImageDataGenerator at 0x7ff47f595e48>"
            ]
          },
          "metadata": {
            "tags": []
          },
          "execution_count": 23
        }
      ]
    },
    {
      "cell_type": "code",
      "metadata": {
        "id": "I11Xna09oLag",
        "colab_type": "code",
        "outputId": "9e450ae4-c54d-4550-e44a-16964cf14837",
        "colab": {
          "base_uri": "https://localhost:8080/",
          "height": 799
        }
      },
      "source": [
        "from keras.applications import VGG16\n",
        "\n",
        "vgg16 = VGG16(weights='imagenet',\n",
        "                  include_top=False,\n",
        "                  input_shape=(224, 224, 3))\n",
        "\n",
        "vgg16.summary()"
      ],
      "execution_count": 0,
      "outputs": [
        {
          "output_type": "stream",
          "text": [
            "Model: \"vgg16\"\n",
            "_________________________________________________________________\n",
            "Layer (type)                 Output Shape              Param #   \n",
            "=================================================================\n",
            "input_5 (InputLayer)         (None, 224, 224, 3)       0         \n",
            "_________________________________________________________________\n",
            "block1_conv1 (Conv2D)        (None, 224, 224, 64)      1792      \n",
            "_________________________________________________________________\n",
            "block1_conv2 (Conv2D)        (None, 224, 224, 64)      36928     \n",
            "_________________________________________________________________\n",
            "block1_pool (MaxPooling2D)   (None, 112, 112, 64)      0         \n",
            "_________________________________________________________________\n",
            "block2_conv1 (Conv2D)        (None, 112, 112, 128)     73856     \n",
            "_________________________________________________________________\n",
            "block2_conv2 (Conv2D)        (None, 112, 112, 128)     147584    \n",
            "_________________________________________________________________\n",
            "block2_pool (MaxPooling2D)   (None, 56, 56, 128)       0         \n",
            "_________________________________________________________________\n",
            "block3_conv1 (Conv2D)        (None, 56, 56, 256)       295168    \n",
            "_________________________________________________________________\n",
            "block3_conv2 (Conv2D)        (None, 56, 56, 256)       590080    \n",
            "_________________________________________________________________\n",
            "block3_conv3 (Conv2D)        (None, 56, 56, 256)       590080    \n",
            "_________________________________________________________________\n",
            "block3_pool (MaxPooling2D)   (None, 28, 28, 256)       0         \n",
            "_________________________________________________________________\n",
            "block4_conv1 (Conv2D)        (None, 28, 28, 512)       1180160   \n",
            "_________________________________________________________________\n",
            "block4_conv2 (Conv2D)        (None, 28, 28, 512)       2359808   \n",
            "_________________________________________________________________\n",
            "block4_conv3 (Conv2D)        (None, 28, 28, 512)       2359808   \n",
            "_________________________________________________________________\n",
            "block4_pool (MaxPooling2D)   (None, 14, 14, 512)       0         \n",
            "_________________________________________________________________\n",
            "block5_conv1 (Conv2D)        (None, 14, 14, 512)       2359808   \n",
            "_________________________________________________________________\n",
            "block5_conv2 (Conv2D)        (None, 14, 14, 512)       2359808   \n",
            "_________________________________________________________________\n",
            "block5_conv3 (Conv2D)        (None, 14, 14, 512)       2359808   \n",
            "_________________________________________________________________\n",
            "block5_pool (MaxPooling2D)   (None, 7, 7, 512)         0         \n",
            "=================================================================\n",
            "Total params: 14,714,688\n",
            "Trainable params: 14,714,688\n",
            "Non-trainable params: 0\n",
            "_________________________________________________________________\n"
          ],
          "name": "stdout"
        }
      ]
    },
    {
      "cell_type": "code",
      "metadata": {
        "id": "GmOuwp8Ooo4q",
        "colab_type": "code",
        "outputId": "2edaf5ba-1a87-4a0f-d3bc-9984d5d8510c",
        "colab": {
          "base_uri": "https://localhost:8080/",
          "height": 289
        }
      },
      "source": [
        "import keras\n",
        "\n",
        "model = keras.Sequential([\n",
        "    vgg16, \n",
        "    keras.layers.GlobalAveragePooling2D(),\n",
        "    keras.layers.Dense(512, activation='relu'),\n",
        "    keras.layers.Dense(10, activation='softmax')])\n",
        "\n",
        "model.compile(\n",
        "    optimizer='adam', \n",
        "    loss=keras.losses.categorical_crossentropy, \n",
        "    metrics=['accuracy'])\n",
        "\n",
        "model.summary()"
      ],
      "execution_count": 0,
      "outputs": [
        {
          "output_type": "stream",
          "text": [
            "Model: \"sequential_3\"\n",
            "_________________________________________________________________\n",
            "Layer (type)                 Output Shape              Param #   \n",
            "=================================================================\n",
            "vgg16 (Model)                (None, 7, 7, 512)         14714688  \n",
            "_________________________________________________________________\n",
            "global_average_pooling2d_3 ( (None, 512)               0         \n",
            "_________________________________________________________________\n",
            "dense_5 (Dense)              (None, 512)               262656    \n",
            "_________________________________________________________________\n",
            "dense_6 (Dense)              (None, 10)                5130      \n",
            "=================================================================\n",
            "Total params: 14,982,474\n",
            "Trainable params: 14,982,474\n",
            "Non-trainable params: 0\n",
            "_________________________________________________________________\n"
          ],
          "name": "stdout"
        }
      ]
    },
    {
      "cell_type": "code",
      "metadata": {
        "id": "vbjdijGsFZFZ",
        "colab_type": "code",
        "colab": {}
      },
      "source": [
        "from keras.optimizers import Adam\n",
        "\n",
        "# using Adam optimizer\n",
        "opt = Adam(lr=0.001)\n",
        "base.compile(optimizer=opt, loss=keras.losses.categorical_crossentropy, metrics=['accuracy'])"
      ],
      "execution_count": 0,
      "outputs": []
    },
    {
      "cell_type": "code",
      "metadata": {
        "id": "DslACO0dIh_z",
        "colab_type": "code",
        "outputId": "d8db6995-921e-462f-f5fd-d7a5ef24a246",
        "colab": {
          "base_uri": "https://localhost:8080/",
          "height": 479
        }
      },
      "source": [
        "from keras.callbacks import ModelCheckpoint, EarlyStopping, TensorBoard\n",
        "import os, datetime\n",
        "\n",
        "\n",
        "log_dir = os.path.join(\"logs/vgg16-keras-transferlearning\", datetime.datetime.now().strftime(\"%Y%m%d-%H%M%S\"))\n",
        "\n",
        "\n",
        "tensorboard_callback = TensorBoard(log_dir=log_dir, histogram_freq=1)\n",
        "checkpoint = ModelCheckpoint(\"/content/drive/My Drive/CMPE 258 - Deep Learning/Assignments/Assignment 4/vgg16.h5\", \n",
        "                             monitor='val_acc', verbose=1, save_best_only=True, save_weights_only=False, mode='auto', period=1)\n",
        "early = EarlyStopping(monitor='val_acc', min_delta=0, patience=20, verbose=1, mode='auto')\n",
        "\n",
        "\n",
        "hist = model.fit_generator(steps_per_epoch=10,\n",
        "                           generator=train_generator, validation_data= val_generator, \n",
        "                           validation_steps=10,epochs=10, \n",
        "                           callbacks=[tensorboard_callback, checkpoint,early], shuffle=True)"
      ],
      "execution_count": 0,
      "outputs": [
        {
          "output_type": "stream",
          "text": [
            "Epoch 1/10\n",
            " 2/10 [=====>........................] - ETA: 15s - loss: 5.4103 - accuracy: 0.1250"
          ],
          "name": "stdout"
        },
        {
          "output_type": "stream",
          "text": [
            "/usr/local/lib/python3.6/dist-packages/keras/callbacks/callbacks.py:95: RuntimeWarning: Method (on_train_batch_end) is slow compared to the batch update (0.226313). Check your callbacks.\n",
            "  % (hook_name, delta_t_median), RuntimeWarning)\n"
          ],
          "name": "stderr"
        },
        {
          "output_type": "stream",
          "text": [
            "10/10 [==============================] - 11s 1s/step - loss: 3.3760 - accuracy: 0.0918 - val_loss: 2.2669 - val_accuracy: 0.0788\n"
          ],
          "name": "stdout"
        },
        {
          "output_type": "stream",
          "text": [
            "/usr/local/lib/python3.6/dist-packages/keras/callbacks/callbacks.py:707: RuntimeWarning: Can save best model only with val_acc available, skipping.\n",
            "  'skipping.' % (self.monitor), RuntimeWarning)\n",
            "/usr/local/lib/python3.6/dist-packages/keras/callbacks/callbacks.py:846: RuntimeWarning: Early stopping conditioned on metric `val_acc` which is not available. Available metrics are: val_loss,val_accuracy,loss,accuracy\n",
            "  (self.monitor, ','.join(list(logs.keys()))), RuntimeWarning\n"
          ],
          "name": "stderr"
        },
        {
          "output_type": "stream",
          "text": [
            "Epoch 2/10\n",
            "10/10 [==============================] - 7s 665ms/step - loss: 2.3268 - accuracy: 0.1063 - val_loss: 2.2941 - val_accuracy: 0.1027\n",
            "Epoch 3/10\n",
            "10/10 [==============================] - 7s 723ms/step - loss: 2.3145 - accuracy: 0.0969 - val_loss: 2.2946 - val_accuracy: 0.0685\n",
            "Epoch 4/10\n",
            "10/10 [==============================] - 8s 755ms/step - loss: 2.3082 - accuracy: 0.0875 - val_loss: 2.1845 - val_accuracy: 0.0985\n",
            "Epoch 5/10\n",
            "10/10 [==============================] - 6s 584ms/step - loss: 2.3068 - accuracy: 0.1213 - val_loss: 2.3036 - val_accuracy: 0.1062\n",
            "Epoch 6/10\n",
            "10/10 [==============================] - 6s 598ms/step - loss: 2.3007 - accuracy: 0.1311 - val_loss: 2.3587 - val_accuracy: 0.1062\n",
            "Epoch 7/10\n",
            "10/10 [==============================] - 7s 686ms/step - loss: 2.3041 - accuracy: 0.1031 - val_loss: 2.3033 - val_accuracy: 0.0925\n",
            "Epoch 8/10\n",
            "10/10 [==============================] - 7s 666ms/step - loss: 2.3005 - accuracy: 0.1219 - val_loss: 2.2885 - val_accuracy: 0.0947\n",
            "Epoch 9/10\n",
            "10/10 [==============================] - 6s 561ms/step - loss: 2.2995 - accuracy: 0.1377 - val_loss: 2.3075 - val_accuracy: 0.1199\n",
            "Epoch 10/10\n",
            "10/10 [==============================] - 7s 703ms/step - loss: 2.2945 - accuracy: 0.1219 - val_loss: 2.2888 - val_accuracy: 0.1062\n"
          ],
          "name": "stdout"
        }
      ]
    },
    {
      "cell_type": "code",
      "metadata": {
        "id": "sbKaCXCOpJm-",
        "colab_type": "code",
        "outputId": "42f227eb-c9ea-4b26-874d-3b70278bab3c",
        "colab": {
          "base_uri": "https://localhost:8080/",
          "height": 445
        }
      },
      "source": [
        "# using SGD optimizer\n",
        "opt = SGD(lr=0.001)\n",
        "base.compile(optimizer=opt, loss=keras.losses.categorical_crossentropy, metrics=['accuracy'])\n",
        "\n",
        "log_dir = os.path.join(\"logs/vgg16-keras-transferlearning\", datetime.datetime.now().strftime(\"%Y%m%d-%H%M%S\"))\n",
        "\n",
        "\n",
        "tensorboard_callback = TensorBoard(log_dir=log_dir, histogram_freq=1)\n",
        "checkpoint = ModelCheckpoint(\"/content/drive/My Drive/CMPE 258 - Deep Learning/Assignments/Assignment 4/vgg16.h5\", \n",
        "                             monitor='val_acc', verbose=1, save_best_only=True, save_weights_only=False, mode='auto', period=1)\n",
        "early = EarlyStopping(monitor='val_acc', min_delta=0, patience=20, verbose=1, mode='auto')\n",
        "\n",
        "\n",
        "hist = model.fit_generator(steps_per_epoch=10,\n",
        "                           generator=train_generator, validation_data= val_generator, \n",
        "                           validation_steps=10,epochs=10, \n",
        "                           callbacks=[tensorboard_callback, checkpoint,early], shuffle=True)"
      ],
      "execution_count": 0,
      "outputs": [
        {
          "output_type": "stream",
          "text": [
            "Epoch 1/10\n",
            "10/10 [==============================] - 9s 915ms/step - loss: 2.2888 - accuracy: 0.1094 - val_loss: 2.2615 - val_accuracy: 0.1404\n"
          ],
          "name": "stdout"
        },
        {
          "output_type": "stream",
          "text": [
            "/usr/local/lib/python3.6/dist-packages/keras/callbacks/callbacks.py:707: RuntimeWarning: Can save best model only with val_acc available, skipping.\n",
            "  'skipping.' % (self.monitor), RuntimeWarning)\n",
            "/usr/local/lib/python3.6/dist-packages/keras/callbacks/callbacks.py:846: RuntimeWarning: Early stopping conditioned on metric `val_acc` which is not available. Available metrics are: val_loss,val_accuracy,loss,accuracy\n",
            "  (self.monitor, ','.join(list(logs.keys()))), RuntimeWarning\n"
          ],
          "name": "stderr"
        },
        {
          "output_type": "stream",
          "text": [
            "Epoch 2/10\n",
            "10/10 [==============================] - 6s 650ms/step - loss: 2.2703 - accuracy: 0.1705 - val_loss: 2.2741 - val_accuracy: 0.0993\n",
            "Epoch 3/10\n",
            "10/10 [==============================] - 7s 709ms/step - loss: 2.2789 - accuracy: 0.1469 - val_loss: 2.2336 - val_accuracy: 0.1062\n",
            "Epoch 4/10\n",
            "10/10 [==============================] - 7s 738ms/step - loss: 2.2869 - accuracy: 0.1531 - val_loss: 2.2192 - val_accuracy: 0.1098\n",
            "Epoch 5/10\n",
            "10/10 [==============================] - 6s 553ms/step - loss: 2.2628 - accuracy: 0.1246 - val_loss: 2.2443 - val_accuracy: 0.1473\n",
            "Epoch 6/10\n",
            "10/10 [==============================] - 6s 622ms/step - loss: 2.1971 - accuracy: 0.1406 - val_loss: 2.2337 - val_accuracy: 0.1233\n",
            "Epoch 7/10\n",
            "10/10 [==============================] - 7s 690ms/step - loss: 2.2371 - accuracy: 0.1531 - val_loss: 2.2672 - val_accuracy: 0.1336\n",
            "Epoch 8/10\n",
            "10/10 [==============================] - 6s 630ms/step - loss: 2.1835 - accuracy: 0.1902 - val_loss: 2.0357 - val_accuracy: 0.1591\n",
            "Epoch 9/10\n",
            "10/10 [==============================] - 6s 572ms/step - loss: 2.2210 - accuracy: 0.1406 - val_loss: 2.1872 - val_accuracy: 0.1644\n",
            "Epoch 10/10\n",
            "10/10 [==============================] - 6s 638ms/step - loss: 2.1805 - accuracy: 0.1639 - val_loss: 2.3329 - val_accuracy: 0.0822\n"
          ],
          "name": "stdout"
        }
      ]
    },
    {
      "cell_type": "code",
      "metadata": {
        "id": "vpWwSPNMl2dE",
        "colab_type": "code",
        "outputId": "49800d9a-9262-4447-ff70-1932607a3ef8",
        "colab": {
          "base_uri": "https://localhost:8080/",
          "height": 156
        }
      },
      "source": [
        "!tensorboard dev upload --logdir ./logs \\\n",
        "  --name \"Dog Breed Classification Using Transfer Learning\""
      ],
      "execution_count": 0,
      "outputs": [
        {
          "output_type": "stream",
          "text": [
            "2020-05-19 20:37:32.843704: I tensorflow/stream_executor/platform/default/dso_loader.cc:44] Successfully opened dynamic library libcudart.so.10.1\n",
            "Data for the \"graphs\" plugin is now uploaded to TensorBoard.dev! Note that uploaded data is public. If you do not want to upload data for this plugin, use the \"--plugins\" command line argument.\n",
            "Upload started and will continue reading any new data as it's added\n",
            "to the logdir. To stop uploading, press Ctrl-C.\n",
            "View your TensorBoard live at: https://tensorboard.dev/experiment/qkzRUpNzRAyt2jH139xSXA/\n",
            "\n",
            "Upload stopped. View your TensorBoard at https://tensorboard.dev/experiment/qkzRUpNzRAyt2jH139xSXA/\n"
          ],
          "name": "stdout"
        }
      ]
    },
    {
      "cell_type": "markdown",
      "metadata": {
        "id": "AFj9mKrhmoF-",
        "colab_type": "text"
      },
      "source": [
        "## Transfer Learning for Resnet 50\n"
      ]
    },
    {
      "cell_type": "code",
      "metadata": {
        "id": "tvGVmIPYozMR",
        "colab_type": "code",
        "outputId": "093fefc3-e578-49dd-e58a-c37b53afc68b",
        "colab": {
          "base_uri": "https://localhost:8080/",
          "height": 289
        }
      },
      "source": [
        "import keras\n",
        "resnet = keras.applications.ResNet50V2(include_top=False, weights='imagenet', input_shape=(224,224,3))\n",
        "resnet.trainable=False\n",
        "\n",
        "model = keras.Sequential([\n",
        "    resnet, \n",
        "    keras.layers.GlobalAveragePooling2D(),\n",
        "    keras.layers.Dense(512, activation='relu'),\n",
        "    keras.layers.Dense(10, activation='softmax')])\n",
        "\n",
        "model.compile(\n",
        "    optimizer='adam', \n",
        "    loss=keras.losses.categorical_crossentropy, \n",
        "    metrics=['accuracy'])\n",
        "\n",
        "model.summary()"
      ],
      "execution_count": 0,
      "outputs": [
        {
          "output_type": "stream",
          "text": [
            "Model: \"sequential_2\"\n",
            "_________________________________________________________________\n",
            "Layer (type)                 Output Shape              Param #   \n",
            "=================================================================\n",
            "resnet50v2 (Model)           (None, 7, 7, 2048)        23564800  \n",
            "_________________________________________________________________\n",
            "global_average_pooling2d_2 ( (None, 2048)              0         \n",
            "_________________________________________________________________\n",
            "dense_3 (Dense)              (None, 512)               1049088   \n",
            "_________________________________________________________________\n",
            "dense_4 (Dense)              (None, 10)                5130      \n",
            "=================================================================\n",
            "Total params: 24,619,018\n",
            "Trainable params: 1,054,218\n",
            "Non-trainable params: 23,564,800\n",
            "_________________________________________________________________\n"
          ],
          "name": "stdout"
        }
      ]
    },
    {
      "cell_type": "code",
      "metadata": {
        "id": "6Ak-3pRam2Dp",
        "colab_type": "code",
        "outputId": "16b38b1f-cdee-40da-febb-688ffc146bb4",
        "colab": {
          "base_uri": "https://localhost:8080/",
          "height": 479
        }
      },
      "source": [
        "log_dir = os.path.join(\"logs/resnet50-keras-transferlearning\", datetime.datetime.now().strftime(\"%Y%m%d-%H%M%S\"))\n",
        "\n",
        "\n",
        "tensorboard_callback = TensorBoard(log_dir=log_dir, histogram_freq=1)\n",
        "checkpoint = ModelCheckpoint(\"/content/drive/My Drive/CMPE 258 - Deep Learning/Assignments/Assignment 4/resnet50.h5\", \n",
        "                             monitor='val_acc', verbose=1, save_best_only=True, save_weights_only=False, mode='auto', period=1)\n",
        "early = EarlyStopping(monitor='val_acc', min_delta=0, patience=20, verbose=1, mode='auto')\n",
        "\n",
        "\n",
        "hist = model.fit_generator(steps_per_epoch=10,\n",
        "                           generator=train_generator, validation_data= val_generator, \n",
        "                           validation_steps=10,epochs=10, \n",
        "                           callbacks=[tensorboard_callback, checkpoint,early], shuffle=True)"
      ],
      "execution_count": 0,
      "outputs": [
        {
          "output_type": "stream",
          "text": [
            "Epoch 1/10\n",
            " 3/10 [========>.....................] - ETA: 9s - loss: 2.1747 - accuracy: 0.1979 "
          ],
          "name": "stdout"
        },
        {
          "output_type": "stream",
          "text": [
            "/usr/local/lib/python3.6/dist-packages/keras/callbacks/callbacks.py:95: RuntimeWarning: Method (on_train_batch_end) is slow compared to the batch update (0.168853). Check your callbacks.\n",
            "  % (hook_name, delta_t_median), RuntimeWarning)\n"
          ],
          "name": "stderr"
        },
        {
          "output_type": "stream",
          "text": [
            "10/10 [==============================] - 11s 1s/step - loss: 1.5263 - accuracy: 0.5000 - val_loss: 0.5767 - val_accuracy: 0.8356\n",
            "Epoch 2/10\n",
            " 2/10 [=====>........................] - ETA: 0s - loss: 0.8163 - accuracy: 0.7812"
          ],
          "name": "stdout"
        },
        {
          "output_type": "stream",
          "text": [
            "/usr/local/lib/python3.6/dist-packages/keras/callbacks/callbacks.py:707: RuntimeWarning: Can save best model only with val_acc available, skipping.\n",
            "  'skipping.' % (self.monitor), RuntimeWarning)\n",
            "/usr/local/lib/python3.6/dist-packages/keras/callbacks/callbacks.py:846: RuntimeWarning: Early stopping conditioned on metric `val_acc` which is not available. Available metrics are: val_loss,val_accuracy,loss,accuracy\n",
            "  (self.monitor, ','.join(list(logs.keys()))), RuntimeWarning\n"
          ],
          "name": "stderr"
        },
        {
          "output_type": "stream",
          "text": [
            "10/10 [==============================] - 4s 421ms/step - loss: 0.7644 - accuracy: 0.7672 - val_loss: 0.3754 - val_accuracy: 0.8767\n",
            "Epoch 3/10\n",
            "10/10 [==============================] - 6s 583ms/step - loss: 0.6019 - accuracy: 0.7906 - val_loss: 0.8949 - val_accuracy: 0.8664\n",
            "Epoch 4/10\n",
            "10/10 [==============================] - 6s 605ms/step - loss: 0.3591 - accuracy: 0.8875 - val_loss: 0.4273 - val_accuracy: 0.8485\n",
            "Epoch 5/10\n",
            "10/10 [==============================] - 4s 427ms/step - loss: 0.3849 - accuracy: 0.8492 - val_loss: 0.6276 - val_accuracy: 0.8733\n",
            "Epoch 6/10\n",
            "10/10 [==============================] - 5s 507ms/step - loss: 0.4669 - accuracy: 0.8344 - val_loss: 0.4224 - val_accuracy: 0.8870\n",
            "Epoch 7/10\n",
            "10/10 [==============================] - 6s 550ms/step - loss: 0.3687 - accuracy: 0.8885 - val_loss: 0.4423 - val_accuracy: 0.8767\n",
            "Epoch 8/10\n",
            "10/10 [==============================] - 5s 523ms/step - loss: 0.3746 - accuracy: 0.8719 - val_loss: 2.1555 - val_accuracy: 0.8636\n",
            "Epoch 9/10\n",
            "10/10 [==============================] - 5s 464ms/step - loss: 0.4236 - accuracy: 0.8500 - val_loss: 0.7980 - val_accuracy: 0.8116\n",
            "Epoch 10/10\n",
            "10/10 [==============================] - 5s 471ms/step - loss: 0.3611 - accuracy: 0.8754 - val_loss: 0.6361 - val_accuracy: 0.8801\n"
          ],
          "name": "stdout"
        }
      ]
    },
    {
      "cell_type": "code",
      "metadata": {
        "id": "HQJVXtKlnfXK",
        "colab_type": "code",
        "outputId": "3f57b6d4-432e-468e-e85c-e948e75a89a4",
        "colab": {
          "base_uri": "https://localhost:8080/",
          "height": 428
        }
      },
      "source": [
        "!tensorboard dev upload --logdir ./logs \\\n",
        "  --name \"Dog Breed Classification Using Transfer Learning\""
      ],
      "execution_count": 0,
      "outputs": [
        {
          "output_type": "stream",
          "text": [
            "2020-05-19 20:28:24.349945: I tensorflow/stream_executor/platform/default/dso_loader.cc:44] Successfully opened dynamic library libcudart.so.10.1\n",
            "Data for the \"graphs\" plugin is now uploaded to TensorBoard.dev! Note that uploaded data is public. If you do not want to upload data for this plugin, use the \"--plugins\" command line argument.\n",
            "Upload started and will continue reading any new data as it's added\n",
            "to the logdir. To stop uploading, press Ctrl-C.\n",
            "View your TensorBoard live at: https://tensorboard.dev/experiment/Xy0ALUm4RH2Oo1X2ASoR0A/\n",
            "\n",
            "Upload stopped. View your TensorBoard at https://tensorboard.dev/experiment/Xy0ALUm4RH2Oo1X2ASoR0A/\n",
            "Traceback (most recent call last):\n",
            "  File \"/usr/local/bin/tensorboard\", line 8, in <module>\n",
            "    sys.exit(run_main())\n",
            "  File \"/usr/local/lib/python3.6/dist-packages/tensorboard/main.py\", line 75, in run_main\n",
            "    app.run(tensorboard.main, flags_parser=tensorboard.configure)\n",
            "  File \"/usr/local/lib/python3.6/dist-packages/absl/app.py\", line 299, in run\n",
            "    _run_main(main, args)\n",
            "  File \"/usr/local/lib/python3.6/dist-packages/absl/app.py\", line 250, in _run_main\n",
            "    sys.exit(main(argv))\n",
            "  File \"/usr/local/lib/python3.6/dist-packages/tensorboard/program.py\", line 289, in main\n",
            "    return runner(self.flags) or 0\n",
            "  File \"/usr/local/lib/python3.6/dist-packages/tensorboard/uploader/uploader_main.py\", line 633, in run\n",
            "    return _run(flags)\n",
            "  File \"/usr/local/lib/python3.6/dist-packages/tensorboard/uploader/uploader_main.py\", line 163, in _run\n",
            "    intent.execute(server_info, channel)\n",
            "KeyboardInterrupt\n"
          ],
          "name": "stdout"
        }
      ]
    }
  ]
}